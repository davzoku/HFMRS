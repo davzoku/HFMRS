{
 "cells": [
  {
   "attachments": {},
   "cell_type": "markdown",
   "metadata": {},
   "source": [
    "## Jacquard Similarity\n",
    "\n",
    "The Jaccard distance measures the dissimilarity between two sets as the size of the intersection divided by the size of the union of the sets."
   ]
  },
  {
   "cell_type": "code",
   "execution_count": 133,
   "metadata": {},
   "outputs": [],
   "source": [
    "# from src.preprocess import Preprocess\n",
    "# dp = Preprocess()"
   ]
  },
  {
   "cell_type": "code",
   "execution_count": 134,
   "metadata": {},
   "outputs": [],
   "source": [
    "# df = dp.main()\n",
    "# df"
   ]
  },
  {
   "cell_type": "code",
   "execution_count": 135,
   "metadata": {},
   "outputs": [
    {
     "data": {
      "text/html": [
       "<div>\n",
       "<style scoped>\n",
       "    .dataframe tbody tr th:only-of-type {\n",
       "        vertical-align: middle;\n",
       "    }\n",
       "\n",
       "    .dataframe tbody tr th {\n",
       "        vertical-align: top;\n",
       "    }\n",
       "\n",
       "    .dataframe thead th {\n",
       "        text-align: right;\n",
       "    }\n",
       "</style>\n",
       "<table border=\"1\" class=\"dataframe\">\n",
       "  <thead>\n",
       "    <tr style=\"text-align: right;\">\n",
       "      <th></th>\n",
       "      <th>modelId</th>\n",
       "      <th>tags</th>\n",
       "      <th>pipeline_tag</th>\n",
       "      <th>author</th>\n",
       "      <th>architectures</th>\n",
       "      <th>model_type</th>\n",
       "      <th>datasets</th>\n",
       "      <th>downloads</th>\n",
       "      <th>library_name</th>\n",
       "      <th>soup</th>\n",
       "    </tr>\n",
       "  </thead>\n",
       "  <tbody>\n",
       "    <tr>\n",
       "      <th>0</th>\n",
       "      <td>jonatasgrosman/wav2vec2-large-xlsr-53-english</td>\n",
       "      <td>pytorch    jax    safetensors    wav2vec2   ...</td>\n",
       "      <td>automatic speech recognition</td>\n",
       "      <td>jonatasgrosman</td>\n",
       "      <td>wav2vec2forctc</td>\n",
       "      <td>wav2vec2</td>\n",
       "      <td>common voice    mozilla foundation common vo...</td>\n",
       "      <td>47102358</td>\n",
       "      <td>transformers</td>\n",
       "      <td>pytorch    jax    safetensors    wav2vec2   ...</td>\n",
       "    </tr>\n",
       "    <tr>\n",
       "      <th>1</th>\n",
       "      <td>bert-base-uncased</td>\n",
       "      <td>pytorch    tf    jax    rust    safetensors ...</td>\n",
       "      <td>fill mask</td>\n",
       "      <td>NaN</td>\n",
       "      <td>bertformaskedlm</td>\n",
       "      <td>bert</td>\n",
       "      <td>bookcorpus    wikipedia</td>\n",
       "      <td>46484719</td>\n",
       "      <td>transformers</td>\n",
       "      <td>pytorch    tf    jax    rust    safetensors ...</td>\n",
       "    </tr>\n",
       "    <tr>\n",
       "      <th>2</th>\n",
       "      <td>Davlan/distilbert-base-multilingual-cased-ner-hrl</td>\n",
       "      <td>pytorch    tf    distilbert    token classif...</td>\n",
       "      <td>token classification</td>\n",
       "      <td>davlan</td>\n",
       "      <td>distilbertfortokenclassification</td>\n",
       "      <td>distilbert</td>\n",
       "      <td>NaN</td>\n",
       "      <td>29407063</td>\n",
       "      <td>transformers</td>\n",
       "      <td>pytorch    tf    distilbert    token classif...</td>\n",
       "    </tr>\n",
       "    <tr>\n",
       "      <th>3</th>\n",
       "      <td>gpt2</td>\n",
       "      <td>pytorch    tf    jax    tflite    rust    sa...</td>\n",
       "      <td>text generation</td>\n",
       "      <td>NaN</td>\n",
       "      <td>gpt2lmheadmodel</td>\n",
       "      <td>gpt2</td>\n",
       "      <td>NaN</td>\n",
       "      <td>21999611</td>\n",
       "      <td>transformers</td>\n",
       "      <td>pytorch    tf    jax    tflite    rust    sa...</td>\n",
       "    </tr>\n",
       "    <tr>\n",
       "      <th>4</th>\n",
       "      <td>xlm-roberta-base</td>\n",
       "      <td>pytorch    tf    jax    onnx    safetensors ...</td>\n",
       "      <td>fill mask</td>\n",
       "      <td>NaN</td>\n",
       "      <td>xlmrobertaformaskedlm</td>\n",
       "      <td>xlm roberta</td>\n",
       "      <td>NaN</td>\n",
       "      <td>20333162</td>\n",
       "      <td>transformers</td>\n",
       "      <td>pytorch    tf    jax    onnx    safetensors ...</td>\n",
       "    </tr>\n",
       "  </tbody>\n",
       "</table>\n",
       "</div>"
      ],
      "text/plain": [
       "                                             modelId  \\\n",
       "0      jonatasgrosman/wav2vec2-large-xlsr-53-english   \n",
       "1                                  bert-base-uncased   \n",
       "2  Davlan/distilbert-base-multilingual-cased-ner-hrl   \n",
       "3                                               gpt2   \n",
       "4                                   xlm-roberta-base   \n",
       "\n",
       "                                                tags  \\\n",
       "0    pytorch    jax    safetensors    wav2vec2   ...   \n",
       "1    pytorch    tf    jax    rust    safetensors ...   \n",
       "2    pytorch    tf    distilbert    token classif...   \n",
       "3    pytorch    tf    jax    tflite    rust    sa...   \n",
       "4    pytorch    tf    jax    onnx    safetensors ...   \n",
       "\n",
       "                   pipeline_tag          author  \\\n",
       "0  automatic speech recognition  jonatasgrosman   \n",
       "1                     fill mask             NaN   \n",
       "2          token classification          davlan   \n",
       "3               text generation             NaN   \n",
       "4                     fill mask             NaN   \n",
       "\n",
       "                          architectures   model_type  \\\n",
       "0                      wav2vec2forctc       wav2vec2   \n",
       "1                     bertformaskedlm           bert   \n",
       "2    distilbertfortokenclassification     distilbert   \n",
       "3                     gpt2lmheadmodel           gpt2   \n",
       "4               xlmrobertaformaskedlm    xlm roberta   \n",
       "\n",
       "                                            datasets  downloads  library_name  \\\n",
       "0    common voice    mozilla foundation common vo...   47102358  transformers   \n",
       "1                          bookcorpus    wikipedia     46484719  transformers   \n",
       "2                                                NaN   29407063  transformers   \n",
       "3                                                NaN   21999611  transformers   \n",
       "4                                                NaN   20333162  transformers   \n",
       "\n",
       "                                                soup  \n",
       "0    pytorch    jax    safetensors    wav2vec2   ...  \n",
       "1    pytorch    tf    jax    rust    safetensors ...  \n",
       "2    pytorch    tf    distilbert    token classif...  \n",
       "3    pytorch    tf    jax    tflite    rust    sa...  \n",
       "4    pytorch    tf    jax    onnx    safetensors ...  "
      ]
     },
     "execution_count": 135,
     "metadata": {},
     "output_type": "execute_result"
    }
   ],
   "source": [
    "import pandas as pd\n",
    "from sklearn.metrics.pairwise import pairwise_distances\n",
    "\n",
    "df = pd.read_csv('../data/processed/data.csv')\n",
    "df.head()"
   ]
  },
  {
   "cell_type": "code",
   "execution_count": 136,
   "metadata": {},
   "outputs": [
    {
     "data": {
      "text/html": [
       "<div>\n",
       "<style scoped>\n",
       "    .dataframe tbody tr th:only-of-type {\n",
       "        vertical-align: middle;\n",
       "    }\n",
       "\n",
       "    .dataframe tbody tr th {\n",
       "        vertical-align: top;\n",
       "    }\n",
       "\n",
       "    .dataframe thead th {\n",
       "        text-align: right;\n",
       "    }\n",
       "</style>\n",
       "<table border=\"1\" class=\"dataframe\">\n",
       "  <thead>\n",
       "    <tr style=\"text-align: right;\">\n",
       "      <th></th>\n",
       "      <th>modelId</th>\n",
       "      <th>tags</th>\n",
       "      <th>pipeline_tag</th>\n",
       "      <th>author</th>\n",
       "      <th>architectures</th>\n",
       "      <th>model_type</th>\n",
       "      <th>datasets</th>\n",
       "      <th>downloads</th>\n",
       "      <th>library_name</th>\n",
       "    </tr>\n",
       "  </thead>\n",
       "  <tbody>\n",
       "    <tr>\n",
       "      <th>0</th>\n",
       "      <td>jonatasgrosman/wav2vec2-large-xlsr-53-english</td>\n",
       "      <td>pytorch    jax    safetensors    wav2vec2   ...</td>\n",
       "      <td>automatic speech recognition</td>\n",
       "      <td>jonatasgrosman</td>\n",
       "      <td>wav2vec2forctc</td>\n",
       "      <td>wav2vec2</td>\n",
       "      <td>common voice    mozilla foundation common vo...</td>\n",
       "      <td>47102358</td>\n",
       "      <td>transformers</td>\n",
       "    </tr>\n",
       "    <tr>\n",
       "      <th>1</th>\n",
       "      <td>bert-base-uncased</td>\n",
       "      <td>pytorch    tf    jax    rust    safetensors ...</td>\n",
       "      <td>fill mask</td>\n",
       "      <td>NaN</td>\n",
       "      <td>bertformaskedlm</td>\n",
       "      <td>bert</td>\n",
       "      <td>bookcorpus    wikipedia</td>\n",
       "      <td>46484719</td>\n",
       "      <td>transformers</td>\n",
       "    </tr>\n",
       "    <tr>\n",
       "      <th>2</th>\n",
       "      <td>Davlan/distilbert-base-multilingual-cased-ner-hrl</td>\n",
       "      <td>pytorch    tf    distilbert    token classif...</td>\n",
       "      <td>token classification</td>\n",
       "      <td>davlan</td>\n",
       "      <td>distilbertfortokenclassification</td>\n",
       "      <td>distilbert</td>\n",
       "      <td>NaN</td>\n",
       "      <td>29407063</td>\n",
       "      <td>transformers</td>\n",
       "    </tr>\n",
       "    <tr>\n",
       "      <th>3</th>\n",
       "      <td>gpt2</td>\n",
       "      <td>pytorch    tf    jax    tflite    rust    sa...</td>\n",
       "      <td>text generation</td>\n",
       "      <td>NaN</td>\n",
       "      <td>gpt2lmheadmodel</td>\n",
       "      <td>gpt2</td>\n",
       "      <td>NaN</td>\n",
       "      <td>21999611</td>\n",
       "      <td>transformers</td>\n",
       "    </tr>\n",
       "    <tr>\n",
       "      <th>4</th>\n",
       "      <td>xlm-roberta-base</td>\n",
       "      <td>pytorch    tf    jax    onnx    safetensors ...</td>\n",
       "      <td>fill mask</td>\n",
       "      <td>NaN</td>\n",
       "      <td>xlmrobertaformaskedlm</td>\n",
       "      <td>xlm roberta</td>\n",
       "      <td>NaN</td>\n",
       "      <td>20333162</td>\n",
       "      <td>transformers</td>\n",
       "    </tr>\n",
       "    <tr>\n",
       "      <th>...</th>\n",
       "      <td>...</td>\n",
       "      <td>...</td>\n",
       "      <td>...</td>\n",
       "      <td>...</td>\n",
       "      <td>...</td>\n",
       "      <td>...</td>\n",
       "      <td>...</td>\n",
       "      <td>...</td>\n",
       "      <td>...</td>\n",
       "    </tr>\n",
       "    <tr>\n",
       "      <th>9995</th>\n",
       "      <td>ans/vaccinating-covid-tweets</td>\n",
       "      <td>pytorch    roberta    text classification   ...</td>\n",
       "      <td>text classification</td>\n",
       "      <td>ans</td>\n",
       "      <td>robertaforsequenceclassification</td>\n",
       "      <td>roberta</td>\n",
       "      <td>tweets</td>\n",
       "      <td>72</td>\n",
       "      <td>transformers</td>\n",
       "    </tr>\n",
       "    <tr>\n",
       "      <th>9996</th>\n",
       "      <td>bakrianoo/sinai-voice-ar-stt</td>\n",
       "      <td>pytorch    wav2vec2    automatic speech reco...</td>\n",
       "      <td>automatic speech recognition</td>\n",
       "      <td>bakrianoo</td>\n",
       "      <td>wav2vec2forctc</td>\n",
       "      <td>wav2vec2</td>\n",
       "      <td>mozilla foundation common voice 8 0</td>\n",
       "      <td>72</td>\n",
       "      <td>transformers</td>\n",
       "    </tr>\n",
       "    <tr>\n",
       "      <th>9997</th>\n",
       "      <td>danyaljj/gpt2_question_generation_given_paragr...</td>\n",
       "      <td>pytorch    gpt2    text generation    transf...</td>\n",
       "      <td>text generation</td>\n",
       "      <td>danyaljj</td>\n",
       "      <td>gpt2lmheadmodel</td>\n",
       "      <td>gpt2</td>\n",
       "      <td>NaN</td>\n",
       "      <td>72</td>\n",
       "      <td>transformers</td>\n",
       "    </tr>\n",
       "    <tr>\n",
       "      <th>9998</th>\n",
       "      <td>dkleczek/Polish-Hate-Speech-Detection-Herbert-...</td>\n",
       "      <td>pytorch    bert    text classification    tr...</td>\n",
       "      <td>text classification</td>\n",
       "      <td>dkleczek</td>\n",
       "      <td>bertforsequenceclassification</td>\n",
       "      <td>bert</td>\n",
       "      <td>NaN</td>\n",
       "      <td>72</td>\n",
       "      <td>transformers</td>\n",
       "    </tr>\n",
       "    <tr>\n",
       "      <th>9999</th>\n",
       "      <td>doyoungkim/bert-base-uncased-finetuned-sst2</td>\n",
       "      <td>pytorch    tensorboard    bert    text class...</td>\n",
       "      <td>text classification</td>\n",
       "      <td>doyoungkim</td>\n",
       "      <td>mybertforsequenceclassification</td>\n",
       "      <td>bert</td>\n",
       "      <td>glue</td>\n",
       "      <td>72</td>\n",
       "      <td>transformers</td>\n",
       "    </tr>\n",
       "  </tbody>\n",
       "</table>\n",
       "<p>10000 rows × 9 columns</p>\n",
       "</div>"
      ],
      "text/plain": [
       "                                                modelId  \\\n",
       "0         jonatasgrosman/wav2vec2-large-xlsr-53-english   \n",
       "1                                     bert-base-uncased   \n",
       "2     Davlan/distilbert-base-multilingual-cased-ner-hrl   \n",
       "3                                                  gpt2   \n",
       "4                                      xlm-roberta-base   \n",
       "...                                                 ...   \n",
       "9995                       ans/vaccinating-covid-tweets   \n",
       "9996                       bakrianoo/sinai-voice-ar-stt   \n",
       "9997  danyaljj/gpt2_question_generation_given_paragr...   \n",
       "9998  dkleczek/Polish-Hate-Speech-Detection-Herbert-...   \n",
       "9999        doyoungkim/bert-base-uncased-finetuned-sst2   \n",
       "\n",
       "                                                   tags  \\\n",
       "0       pytorch    jax    safetensors    wav2vec2   ...   \n",
       "1       pytorch    tf    jax    rust    safetensors ...   \n",
       "2       pytorch    tf    distilbert    token classif...   \n",
       "3       pytorch    tf    jax    tflite    rust    sa...   \n",
       "4       pytorch    tf    jax    onnx    safetensors ...   \n",
       "...                                                 ...   \n",
       "9995    pytorch    roberta    text classification   ...   \n",
       "9996    pytorch    wav2vec2    automatic speech reco...   \n",
       "9997    pytorch    gpt2    text generation    transf...   \n",
       "9998    pytorch    bert    text classification    tr...   \n",
       "9999    pytorch    tensorboard    bert    text class...   \n",
       "\n",
       "                      pipeline_tag          author  \\\n",
       "0     automatic speech recognition  jonatasgrosman   \n",
       "1                        fill mask             NaN   \n",
       "2             token classification          davlan   \n",
       "3                  text generation             NaN   \n",
       "4                        fill mask             NaN   \n",
       "...                            ...             ...   \n",
       "9995           text classification             ans   \n",
       "9996  automatic speech recognition       bakrianoo   \n",
       "9997               text generation        danyaljj   \n",
       "9998           text classification        dkleczek   \n",
       "9999           text classification      doyoungkim   \n",
       "\n",
       "                             architectures   model_type  \\\n",
       "0                         wav2vec2forctc       wav2vec2   \n",
       "1                        bertformaskedlm           bert   \n",
       "2       distilbertfortokenclassification     distilbert   \n",
       "3                        gpt2lmheadmodel           gpt2   \n",
       "4                  xlmrobertaformaskedlm    xlm roberta   \n",
       "...                                    ...          ...   \n",
       "9995    robertaforsequenceclassification        roberta   \n",
       "9996                      wav2vec2forctc       wav2vec2   \n",
       "9997                     gpt2lmheadmodel           gpt2   \n",
       "9998       bertforsequenceclassification           bert   \n",
       "9999     mybertforsequenceclassification           bert   \n",
       "\n",
       "                                               datasets  downloads  \\\n",
       "0       common voice    mozilla foundation common vo...   47102358   \n",
       "1                             bookcorpus    wikipedia     46484719   \n",
       "2                                                   NaN   29407063   \n",
       "3                                                   NaN   21999611   \n",
       "4                                                   NaN   20333162   \n",
       "...                                                 ...        ...   \n",
       "9995                                           tweets           72   \n",
       "9996              mozilla foundation common voice 8 0           72   \n",
       "9997                                                NaN         72   \n",
       "9998                                                NaN         72   \n",
       "9999                                             glue           72   \n",
       "\n",
       "      library_name  \n",
       "0     transformers  \n",
       "1     transformers  \n",
       "2     transformers  \n",
       "3     transformers  \n",
       "4     transformers  \n",
       "...            ...  \n",
       "9995  transformers  \n",
       "9996  transformers  \n",
       "9997  transformers  \n",
       "9998  transformers  \n",
       "9999  transformers  \n",
       "\n",
       "[10000 rows x 9 columns]"
      ]
     },
     "execution_count": 136,
     "metadata": {},
     "output_type": "execute_result"
    }
   ],
   "source": [
    "df_js = df.drop('soup', axis=1)\n",
    "df_js"
   ]
  },
  {
   "cell_type": "code",
   "execution_count": 137,
   "metadata": {},
   "outputs": [],
   "source": [
    "df_js_one_hot = pd.get_dummies(df_js.iloc[:, 1:],dummy_na=True)\n"
   ]
  },
  {
   "cell_type": "code",
   "execution_count": 138,
   "metadata": {},
   "outputs": [],
   "source": [
    "# Concatenate the encoded DataFrame with the modelId column\n",
    "df_js_one_hot = pd.concat([df_js['modelId'], df_js_one_hot], axis=1)"
   ]
  },
  {
   "cell_type": "code",
   "execution_count": 139,
   "metadata": {},
   "outputs": [
    {
     "data": {
      "text/html": [
       "<div>\n",
       "<style scoped>\n",
       "    .dataframe tbody tr th:only-of-type {\n",
       "        vertical-align: middle;\n",
       "    }\n",
       "\n",
       "    .dataframe tbody tr th {\n",
       "        vertical-align: top;\n",
       "    }\n",
       "\n",
       "    .dataframe thead th {\n",
       "        text-align: right;\n",
       "    }\n",
       "</style>\n",
       "<table border=\"1\" class=\"dataframe\">\n",
       "  <thead>\n",
       "    <tr style=\"text-align: right;\">\n",
       "      <th></th>\n",
       "      <th>modelId</th>\n",
       "      <th>downloads</th>\n",
       "      <th>tags_</th>\n",
       "      <th>tags_  a2n    dataset eugenesiow div2k    dataset eugenesiow set5    dataset eugenesiow set14    dataset eugenesiow bsd100    dataset eugenesiow urban100    arxiv 2104 09497    arxiv 2104 07566    transformers    super image    image super resolution    license apache 2 0    has space</th>\n",
       "      <th>tags_  aa    dataset fka awesome chatgpt prompts    arxiv 1910 09700    diffusers    art    code    license unknown    text to image    has space</th>\n",
       "      <th>tags_  albert    transformers</th>\n",
       "      <th>tags_  ar    dataset common voice    arxiv 1809 08895    arxiv 2109 06912    fairseq    audio    text to speech    has space</th>\n",
       "      <th>tags_  ar    eu    br    ca    cv    cs    dv    nl    en    eo    et    fr    fy    ka    de    el    cnh    id    ia    it    ja    kab    rw    ky    lv    mt    mn    fa    pl    pt    ro    rm    ru    sah    sl    es    sv    ta    tt    tr    uk    cy    dataset urbansound8k    arxiv 2106 04624    speechbrain    audio classification    embeddings    language    identification    pytorch    ecapa tdnn    tdnn    commonlanguage    license apache 2 0    has space</th>\n",
       "      <th>tags_  ar    stanza    token classification    license apache 2 0</th>\n",
       "      <th>tags_  awsrn    dataset eugenesiow div2k    dataset eugenesiow set5    dataset eugenesiow set14    dataset eugenesiow bsd100    dataset eugenesiow urban100    arxiv 1904 02358    arxiv 2104 07566    transformers    super image    image super resolution    license apache 2 0    has space</th>\n",
       "      <th>...</th>\n",
       "      <th>library_name_speechbrain</th>\n",
       "      <th>library_name_stable baselines3</th>\n",
       "      <th>library_name_stable diffusion</th>\n",
       "      <th>library_name_stanza</th>\n",
       "      <th>library_name_timm</th>\n",
       "      <th>library_name_transformers</th>\n",
       "      <th>library_name_txtai</th>\n",
       "      <th>library_name_ultralytics</th>\n",
       "      <th>library_name_yolov5</th>\n",
       "      <th>library_name_nan</th>\n",
       "    </tr>\n",
       "  </thead>\n",
       "  <tbody>\n",
       "    <tr>\n",
       "      <th>0</th>\n",
       "      <td>jonatasgrosman/wav2vec2-large-xlsr-53-english</td>\n",
       "      <td>47102358</td>\n",
       "      <td>0</td>\n",
       "      <td>0</td>\n",
       "      <td>0</td>\n",
       "      <td>0</td>\n",
       "      <td>0</td>\n",
       "      <td>0</td>\n",
       "      <td>0</td>\n",
       "      <td>0</td>\n",
       "      <td>...</td>\n",
       "      <td>0</td>\n",
       "      <td>0</td>\n",
       "      <td>0</td>\n",
       "      <td>0</td>\n",
       "      <td>0</td>\n",
       "      <td>1</td>\n",
       "      <td>0</td>\n",
       "      <td>0</td>\n",
       "      <td>0</td>\n",
       "      <td>0</td>\n",
       "    </tr>\n",
       "    <tr>\n",
       "      <th>1</th>\n",
       "      <td>bert-base-uncased</td>\n",
       "      <td>46484719</td>\n",
       "      <td>0</td>\n",
       "      <td>0</td>\n",
       "      <td>0</td>\n",
       "      <td>0</td>\n",
       "      <td>0</td>\n",
       "      <td>0</td>\n",
       "      <td>0</td>\n",
       "      <td>0</td>\n",
       "      <td>...</td>\n",
       "      <td>0</td>\n",
       "      <td>0</td>\n",
       "      <td>0</td>\n",
       "      <td>0</td>\n",
       "      <td>0</td>\n",
       "      <td>1</td>\n",
       "      <td>0</td>\n",
       "      <td>0</td>\n",
       "      <td>0</td>\n",
       "      <td>0</td>\n",
       "    </tr>\n",
       "    <tr>\n",
       "      <th>2</th>\n",
       "      <td>Davlan/distilbert-base-multilingual-cased-ner-hrl</td>\n",
       "      <td>29407063</td>\n",
       "      <td>0</td>\n",
       "      <td>0</td>\n",
       "      <td>0</td>\n",
       "      <td>0</td>\n",
       "      <td>0</td>\n",
       "      <td>0</td>\n",
       "      <td>0</td>\n",
       "      <td>0</td>\n",
       "      <td>...</td>\n",
       "      <td>0</td>\n",
       "      <td>0</td>\n",
       "      <td>0</td>\n",
       "      <td>0</td>\n",
       "      <td>0</td>\n",
       "      <td>1</td>\n",
       "      <td>0</td>\n",
       "      <td>0</td>\n",
       "      <td>0</td>\n",
       "      <td>0</td>\n",
       "    </tr>\n",
       "    <tr>\n",
       "      <th>3</th>\n",
       "      <td>gpt2</td>\n",
       "      <td>21999611</td>\n",
       "      <td>0</td>\n",
       "      <td>0</td>\n",
       "      <td>0</td>\n",
       "      <td>0</td>\n",
       "      <td>0</td>\n",
       "      <td>0</td>\n",
       "      <td>0</td>\n",
       "      <td>0</td>\n",
       "      <td>...</td>\n",
       "      <td>0</td>\n",
       "      <td>0</td>\n",
       "      <td>0</td>\n",
       "      <td>0</td>\n",
       "      <td>0</td>\n",
       "      <td>1</td>\n",
       "      <td>0</td>\n",
       "      <td>0</td>\n",
       "      <td>0</td>\n",
       "      <td>0</td>\n",
       "    </tr>\n",
       "    <tr>\n",
       "      <th>4</th>\n",
       "      <td>xlm-roberta-base</td>\n",
       "      <td>20333162</td>\n",
       "      <td>0</td>\n",
       "      <td>0</td>\n",
       "      <td>0</td>\n",
       "      <td>0</td>\n",
       "      <td>0</td>\n",
       "      <td>0</td>\n",
       "      <td>0</td>\n",
       "      <td>0</td>\n",
       "      <td>...</td>\n",
       "      <td>0</td>\n",
       "      <td>0</td>\n",
       "      <td>0</td>\n",
       "      <td>0</td>\n",
       "      <td>0</td>\n",
       "      <td>1</td>\n",
       "      <td>0</td>\n",
       "      <td>0</td>\n",
       "      <td>0</td>\n",
       "      <td>0</td>\n",
       "    </tr>\n",
       "  </tbody>\n",
       "</table>\n",
       "<p>5 rows × 11013 columns</p>\n",
       "</div>"
      ],
      "text/plain": [
       "                                             modelId  downloads  tags_    \\\n",
       "0      jonatasgrosman/wav2vec2-large-xlsr-53-english   47102358        0   \n",
       "1                                  bert-base-uncased   46484719        0   \n",
       "2  Davlan/distilbert-base-multilingual-cased-ner-hrl   29407063        0   \n",
       "3                                               gpt2   21999611        0   \n",
       "4                                   xlm-roberta-base   20333162        0   \n",
       "\n",
       "   tags_  a2n    dataset eugenesiow div2k    dataset eugenesiow set5    dataset eugenesiow set14    dataset eugenesiow bsd100    dataset eugenesiow urban100    arxiv 2104 09497    arxiv 2104 07566    transformers    super image    image super resolution    license apache 2 0    has space    \\\n",
       "0                                                  0                                                                                                                                                                                                                                                 \n",
       "1                                                  0                                                                                                                                                                                                                                                 \n",
       "2                                                  0                                                                                                                                                                                                                                                 \n",
       "3                                                  0                                                                                                                                                                                                                                                 \n",
       "4                                                  0                                                                                                                                                                                                                                                 \n",
       "\n",
       "   tags_  aa    dataset fka awesome chatgpt prompts    arxiv 1910 09700    diffusers    art    code    license unknown    text to image    has space    \\\n",
       "0                                                  0                                                                                                     \n",
       "1                                                  0                                                                                                     \n",
       "2                                                  0                                                                                                     \n",
       "3                                                  0                                                                                                     \n",
       "4                                                  0                                                                                                     \n",
       "\n",
       "   tags_  albert    transformers    \\\n",
       "0                                0   \n",
       "1                                0   \n",
       "2                                0   \n",
       "3                                0   \n",
       "4                                0   \n",
       "\n",
       "   tags_  ar    dataset common voice    arxiv 1809 08895    arxiv 2109 06912    fairseq    audio    text to speech    has space    \\\n",
       "0                                                  0                                                                                \n",
       "1                                                  0                                                                                \n",
       "2                                                  0                                                                                \n",
       "3                                                  0                                                                                \n",
       "4                                                  0                                                                                \n",
       "\n",
       "   tags_  ar    eu    br    ca    cv    cs    dv    nl    en    eo    et    fr    fy    ka    de    el    cnh    id    ia    it    ja    kab    rw    ky    lv    mt    mn    fa    pl    pt    ro    rm    ru    sah    sl    es    sv    ta    tt    tr    uk    cy    dataset urbansound8k    arxiv 2106 04624    speechbrain    audio classification    embeddings    language    identification    pytorch    ecapa tdnn    tdnn    commonlanguage    license apache 2 0    has space    \\\n",
       "0                                                  0                                                                                                                                                                                                                                                                                                                                                                                                                                           \n",
       "1                                                  0                                                                                                                                                                                                                                                                                                                                                                                                                                           \n",
       "2                                                  0                                                                                                                                                                                                                                                                                                                                                                                                                                           \n",
       "3                                                  0                                                                                                                                                                                                                                                                                                                                                                                                                                           \n",
       "4                                                  0                                                                                                                                                                                                                                                                                                                                                                                                                                           \n",
       "\n",
       "   tags_  ar    stanza    token classification    license apache 2 0    \\\n",
       "0                                                  0                     \n",
       "1                                                  0                     \n",
       "2                                                  0                     \n",
       "3                                                  0                     \n",
       "4                                                  0                     \n",
       "\n",
       "   tags_  awsrn    dataset eugenesiow div2k    dataset eugenesiow set5    dataset eugenesiow set14    dataset eugenesiow bsd100    dataset eugenesiow urban100    arxiv 1904 02358    arxiv 2104 07566    transformers    super image    image super resolution    license apache 2 0    has space    \\\n",
       "0                                                  0                                                                                                                                                                                                                                                   \n",
       "1                                                  0                                                                                                                                                                                                                                                   \n",
       "2                                                  0                                                                                                                                                                                                                                                   \n",
       "3                                                  0                                                                                                                                                                                                                                                   \n",
       "4                                                  0                                                                                                                                                                                                                                                   \n",
       "\n",
       "   ...  library_name_speechbrain  library_name_stable baselines3  \\\n",
       "0  ...                         0                               0   \n",
       "1  ...                         0                               0   \n",
       "2  ...                         0                               0   \n",
       "3  ...                         0                               0   \n",
       "4  ...                         0                               0   \n",
       "\n",
       "   library_name_stable diffusion  library_name_stanza  library_name_timm  \\\n",
       "0                              0                    0                  0   \n",
       "1                              0                    0                  0   \n",
       "2                              0                    0                  0   \n",
       "3                              0                    0                  0   \n",
       "4                              0                    0                  0   \n",
       "\n",
       "   library_name_transformers  library_name_txtai  library_name_ultralytics  \\\n",
       "0                          1                   0                         0   \n",
       "1                          1                   0                         0   \n",
       "2                          1                   0                         0   \n",
       "3                          1                   0                         0   \n",
       "4                          1                   0                         0   \n",
       "\n",
       "   library_name_yolov5  library_name_nan  \n",
       "0                    0                 0  \n",
       "1                    0                 0  \n",
       "2                    0                 0  \n",
       "3                    0                 0  \n",
       "4                    0                 0  \n",
       "\n",
       "[5 rows x 11013 columns]"
      ]
     },
     "execution_count": 139,
     "metadata": {},
     "output_type": "execute_result"
    }
   ],
   "source": [
    "df_js_one_hot.head()"
   ]
  },
  {
   "cell_type": "code",
   "execution_count": 140,
   "metadata": {},
   "outputs": [
    {
     "name": "stderr",
     "output_type": "stream",
     "text": [
      "/home/winnie/miniconda3/envs/Wan_Ying/lib/python3.9/site-packages/sklearn/metrics/pairwise.py:2025: DataConversionWarning: Data was converted to boolean for metric jaccard\n",
      "  warnings.warn(msg, DataConversionWarning)\n"
     ]
    }
   ],
   "source": [
    "# Step 3: Calculate pairwise Jaccard similarity\n",
    "similarity_matrix = 1 - pairwise_distances(df_js_one_hot.to_numpy(), metric='jaccard')\n",
    "# print(similarity_matrix.shape)"
   ]
  },
  {
   "cell_type": "code",
   "execution_count": 141,
   "metadata": {},
   "outputs": [
    {
     "name": "stdout",
     "output_type": "stream",
     "text": [
      "(10000, 10000)\n"
     ]
    }
   ],
   "source": [
    "print(similarity_matrix.shape)"
   ]
  },
  {
   "cell_type": "code",
   "execution_count": 142,
   "metadata": {},
   "outputs": [],
   "source": [
    "def get_recommendations(df_js, similarity_matrix, modelId, recommend_no, method = \"jaccard\"):\n",
    "    if modelId in df['modelId'].values:\n",
    "        index = df[df['modelId'] == modelId].index[0]\n",
    "        print(f\"Find model of index {index}\")\n",
    "        \n",
    "    else:\n",
    "        print(f'Error: product_name \"{product_name}\" not found in dataframe.')\n",
    "    \n",
    "    if \"jaccard\" == method.lower():\n",
    "        similar_indices = similarity_matrix[index].argsort()[::-1][1:recommend_no+1]\n",
    "        similar_models = df.iloc[similar_indices]['modelId']\n",
    "        similarity_scores = similarity_matrix[index][similar_indices]\n",
    "        \n",
    "        print(f'Target Model: {df.iloc[index][\"modelId\"]}')\n",
    "        print(f'{recommend_no} Recommended Models:\\n{similar_models}')\n",
    "        print(f'Similarity Scores: {similarity_scores}')\n",
    "    \n",
    "    else:\n",
    "        print(f\"{method} not supported\")"
   ]
  },
  {
   "cell_type": "code",
   "execution_count": 143,
   "metadata": {},
   "outputs": [
    {
     "name": "stdout",
     "output_type": "stream",
     "text": [
      "Find model of index 1\n",
      "Target Model: bert-base-uncased\n",
      "5 Recommended Models:\n",
      "66                         bert-large-uncased\n",
      "11                            bert-base-cased\n",
      "303                          bert-large-cased\n",
      "2091      bert-large-cased-whole-word-masking\n",
      "218     bert-large-uncased-whole-word-masking\n",
      "Name: modelId, dtype: object\n",
      "Similarity Scores: [0.8 0.8 0.8 0.8 0.8]\n"
     ]
    }
   ],
   "source": [
    "get_recommendations(df_js_one_hot, similarity_matrix, \"bert-base-uncased\", 5, method=\"jaccard\")"
   ]
  },
  {
   "cell_type": "code",
   "execution_count": 144,
   "metadata": {},
   "outputs": [
    {
     "data": {
      "text/html": [
       "<div>\n",
       "<style scoped>\n",
       "    .dataframe tbody tr th:only-of-type {\n",
       "        vertical-align: middle;\n",
       "    }\n",
       "\n",
       "    .dataframe tbody tr th {\n",
       "        vertical-align: top;\n",
       "    }\n",
       "\n",
       "    .dataframe thead th {\n",
       "        text-align: right;\n",
       "    }\n",
       "</style>\n",
       "<table border=\"1\" class=\"dataframe\">\n",
       "  <thead>\n",
       "    <tr style=\"text-align: right;\">\n",
       "      <th></th>\n",
       "      <th>modelId</th>\n",
       "      <th>tags</th>\n",
       "      <th>pipeline_tag</th>\n",
       "      <th>author</th>\n",
       "      <th>architectures</th>\n",
       "      <th>model_type</th>\n",
       "      <th>datasets</th>\n",
       "      <th>downloads</th>\n",
       "      <th>library_name</th>\n",
       "      <th>soup</th>\n",
       "    </tr>\n",
       "  </thead>\n",
       "  <tbody>\n",
       "    <tr>\n",
       "      <th>1</th>\n",
       "      <td>bert-base-uncased</td>\n",
       "      <td>pytorch    tf    jax    rust    safetensors ...</td>\n",
       "      <td>fill mask</td>\n",
       "      <td>NaN</td>\n",
       "      <td>bertformaskedlm</td>\n",
       "      <td>bert</td>\n",
       "      <td>bookcorpus    wikipedia</td>\n",
       "      <td>46484719</td>\n",
       "      <td>transformers</td>\n",
       "      <td>pytorch    tf    jax    rust    safetensors ...</td>\n",
       "    </tr>\n",
       "    <tr>\n",
       "      <th>4376</th>\n",
       "      <td>asafaya/bert-mini-arabic</td>\n",
       "      <td>pytorch    tf    jax    safetensors    bert ...</td>\n",
       "      <td>fill mask</td>\n",
       "      <td>asafaya</td>\n",
       "      <td>bertformaskedlm</td>\n",
       "      <td>bert</td>\n",
       "      <td>oscar    wikipedia</td>\n",
       "      <td>478</td>\n",
       "      <td>transformers</td>\n",
       "      <td>pytorch    tf    jax    safetensors    bert ...</td>\n",
       "    </tr>\n",
       "    <tr>\n",
       "      <th>9562</th>\n",
       "      <td>anon-submission-mk/bert-base-macedonian-bulgar...</td>\n",
       "      <td>pytorch    tf    jax    bert    fill mask   ...</td>\n",
       "      <td>fill mask</td>\n",
       "      <td>anon submission mk</td>\n",
       "      <td>bertformaskedlm</td>\n",
       "      <td>bert</td>\n",
       "      <td>NaN</td>\n",
       "      <td>81</td>\n",
       "      <td>transformers</td>\n",
       "      <td>pytorch    tf    jax    bert    fill mask   ...</td>\n",
       "    </tr>\n",
       "    <tr>\n",
       "      <th>3610</th>\n",
       "      <td>jcblaise/bert-tagalog-base-cased</td>\n",
       "      <td>pytorch    jax    bert    fill mask    tl   ...</td>\n",
       "      <td>fill mask</td>\n",
       "      <td>jcblaise</td>\n",
       "      <td>bertformaskedlm</td>\n",
       "      <td>bert</td>\n",
       "      <td>NaN</td>\n",
       "      <td>766</td>\n",
       "      <td>transformers</td>\n",
       "      <td>pytorch    jax    bert    fill mask    tl   ...</td>\n",
       "    </tr>\n",
       "  </tbody>\n",
       "</table>\n",
       "</div>"
      ],
      "text/plain": [
       "                                                modelId  \\\n",
       "1                                     bert-base-uncased   \n",
       "4376                           asafaya/bert-mini-arabic   \n",
       "9562  anon-submission-mk/bert-base-macedonian-bulgar...   \n",
       "3610                   jcblaise/bert-tagalog-base-cased   \n",
       "\n",
       "                                                   tags pipeline_tag  \\\n",
       "1       pytorch    tf    jax    rust    safetensors ...    fill mask   \n",
       "4376    pytorch    tf    jax    safetensors    bert ...    fill mask   \n",
       "9562    pytorch    tf    jax    bert    fill mask   ...    fill mask   \n",
       "3610    pytorch    jax    bert    fill mask    tl   ...    fill mask   \n",
       "\n",
       "                  author        architectures model_type  \\\n",
       "1                    NaN    bertformaskedlm         bert   \n",
       "4376             asafaya    bertformaskedlm         bert   \n",
       "9562  anon submission mk    bertformaskedlm         bert   \n",
       "3610            jcblaise    bertformaskedlm         bert   \n",
       "\n",
       "                         datasets  downloads  library_name  \\\n",
       "1       bookcorpus    wikipedia     46484719  transformers   \n",
       "4376         oscar    wikipedia          478  transformers   \n",
       "9562                          NaN         81  transformers   \n",
       "3610                          NaN        766  transformers   \n",
       "\n",
       "                                                   soup  \n",
       "1       pytorch    tf    jax    rust    safetensors ...  \n",
       "4376    pytorch    tf    jax    safetensors    bert ...  \n",
       "9562    pytorch    tf    jax    bert    fill mask   ...  \n",
       "3610    pytorch    jax    bert    fill mask    tl   ...  "
      ]
     },
     "execution_count": 144,
     "metadata": {},
     "output_type": "execute_result"
    }
   ],
   "source": [
    "df.iloc[[1,4376,9562, 3610]]"
   ]
  },
  {
   "cell_type": "code",
   "execution_count": 145,
   "metadata": {},
   "outputs": [
    {
     "name": "stdout",
     "output_type": "stream",
     "text": [
      "Find model of index 4376\n",
      "Target Model: asafaya/bert-mini-arabic\n",
      "5 Recommended Models:\n",
      "4376                   asafaya/bert-mini-arabic\n",
      "904                    asafaya/bert-base-arabic\n",
      "5419                 asafaya/bert-medium-arabic\n",
      "355     naver/splade-cocondenser-ensembledistil\n",
      "5135                l3cube-pune/marathi-bert-v2\n",
      "Name: modelId, dtype: object\n",
      "Similarity Scores: [1.  1.  0.8 0.5 0.5]\n"
     ]
    }
   ],
   "source": [
    "get_recommendations(df_js_one_hot, similarity_matrix, \"asafaya/bert-mini-arabic\", 5, method=\"jaccard\")"
   ]
  },
  {
   "cell_type": "code",
   "execution_count": 146,
   "metadata": {},
   "outputs": [
    {
     "name": "stderr",
     "output_type": "stream",
     "text": [
      "/home/winnie/miniconda3/envs/Wan_Ying/lib/python3.9/site-packages/sklearn/metrics/pairwise.py:2025: DataConversionWarning: Data was converted to boolean for metric jaccard\n",
      "  warnings.warn(msg, DataConversionWarning)\n"
     ]
    }
   ],
   "source": [
    "# from sklearn.metrics import silhouette_score\n",
    "# distance = pairwise_distances(df_js_one_hot.to_numpy(), metric='jaccard')"
   ]
  },
  {
   "attachments": {},
   "cell_type": "markdown",
   "metadata": {},
   "source": [
    "## Cosine Similarity"
   ]
  },
  {
   "cell_type": "code",
   "execution_count": 147,
   "metadata": {},
   "outputs": [],
   "source": [
    "# Import CountVectorizer and create the count matrix\n",
    "from sklearn.feature_extraction.text import CountVectorizer\n",
    "\n",
    "# Compute the Cosine Similarity matrix based on the count_matrix\n",
    "from sklearn.metrics.pairwise import cosine_similarity\n",
    "\n",
    "count = CountVectorizer()\n",
    "count_matrix = count.fit_transform(df['soup'])\n",
    "\n",
    "#Construct a reverse map of indices and movie titles\n",
    "indices = pd.Series(df.index, index=df['modelId']).drop_duplicates()\n",
    "\n",
    "cosine_sim = cosine_similarity(count_matrix)"
   ]
  },
  {
   "cell_type": "code",
   "execution_count": 148,
   "metadata": {},
   "outputs": [],
   "source": [
    "# import seaborn as sns\n",
    "# sns.heatmap(cosine_sim, cmap=\"YlGnBu\", annot=True)"
   ]
  },
  {
   "cell_type": "code",
   "execution_count": 149,
   "metadata": {},
   "outputs": [],
   "source": [
    "def get_recommendations_cosine(df, cosine_sim, model, recommend_no):\n",
    "    # Get the index of the movie that matches the title\n",
    "    idx = indices[model]\n",
    "\n",
    "    # Get the pairwise similarity scores of all models with that models\n",
    "    sim_scores = list(enumerate(cosine_sim[idx]))\n",
    "\n",
    "    # Sort the models based on the similarity scores\n",
    "    sim_scores = sorted(sim_scores, key=lambda x: x[1], reverse=True)\n",
    "\n",
    "    # Get the scores of the X most similar movies\n",
    "    sim_scores = sim_scores[1:recommend_no+1]\n",
    "\n",
    "    # Get the movie indices\n",
    "    return_indices = [i[0] for i in sim_scores]\n",
    "\n",
    "    # Return the top 10 most similar movies\n",
    "    return df.iloc[return_indices]"
   ]
  },
  {
   "cell_type": "code",
   "execution_count": 150,
   "metadata": {},
   "outputs": [
    {
     "name": "stdout",
     "output_type": "stream",
     "text": [
      "11                            bert-base-cased\n",
      "66                         bert-large-uncased\n",
      "218     bert-large-uncased-whole-word-masking\n",
      "303                          bert-large-cased\n",
      "2091      bert-large-cased-whole-word-masking\n",
      "Name: modelId, dtype: object\n"
     ]
    }
   ],
   "source": [
    "cosine_sim_result = get_recommendations_cosine(df, cosine_sim, 'bert-base-uncased', 5)\n",
    "print(cosine_sim_result['modelId'])"
   ]
  },
  {
   "cell_type": "code",
   "execution_count": 151,
   "metadata": {},
   "outputs": [
    {
     "name": "stdout",
     "output_type": "stream",
     "text": [
      "Find model of index 1\n",
      "Target Model: bert-base-uncased\n",
      "5 Recommended Models:\n",
      "66                         bert-large-uncased\n",
      "11                            bert-base-cased\n",
      "303                          bert-large-cased\n",
      "2091      bert-large-cased-whole-word-masking\n",
      "218     bert-large-uncased-whole-word-masking\n",
      "Name: modelId, dtype: object\n",
      "Similarity Scores: [0.8 0.8 0.8 0.8 0.8]\n"
     ]
    }
   ],
   "source": [
    "# take jaccard similarity and compare again\n",
    "get_recommendations(df_js_one_hot, similarity_matrix, \"bert-base-uncased\", 5, method=\"jaccard\")"
   ]
  },
  {
   "attachments": {},
   "cell_type": "markdown",
   "metadata": {},
   "source": [
    "## KNN\n",
    "\n",
    "[sklearn.neighbors.NearestNeighbors — scikit-learn 1.2.2 documentation](https://scikit-learn.org/stable/modules/generated/sklearn.neighbors.NearestNeighbors.html)"
   ]
  },
  {
   "cell_type": "code",
   "execution_count": 152,
   "metadata": {},
   "outputs": [],
   "source": [
    "from sklearn.neighbors import NearestNeighbors\n",
    "knn_feat_cols = df_js_one_hot.iloc[:, 1:]\n",
    "X = knn_feat_cols"
   ]
  },
  {
   "cell_type": "code",
   "execution_count": 153,
   "metadata": {},
   "outputs": [],
   "source": [
    "knn = NearestNeighbors(n_neighbors=len(df_js), algorithm='auto').fit(X)\n",
    "distances, indices = knn.kneighbors(X)"
   ]
  },
  {
   "cell_type": "code",
   "execution_count": 154,
   "metadata": {},
   "outputs": [
    {
     "data": {
      "text/plain": [
       "array([[0.00000000e+00, 6.17639000e+05, 1.76952950e+07, ...,\n",
       "        4.71022860e+07, 4.71022860e+07, 4.71022860e+07],\n",
       "       [0.00000000e+00, 6.17639000e+05, 1.70776560e+07, ...,\n",
       "        4.64846470e+07, 4.64846470e+07, 4.64846470e+07],\n",
       "       [0.00000000e+00, 7.40745200e+06, 9.07390100e+06, ...,\n",
       "        2.94069910e+07, 2.94069910e+07, 2.94069910e+07],\n",
       "       ...,\n",
       "       [0.00000000e+00, 1.73205081e+00, 2.44948974e+00, ...,\n",
       "        2.94069910e+07, 4.64846470e+07, 4.71022860e+07],\n",
       "       [0.00000000e+00, 1.73205081e+00, 2.82842712e+00, ...,\n",
       "        2.94069910e+07, 4.64846470e+07, 4.71022860e+07],\n",
       "       [0.00000000e+00, 2.82842712e+00, 3.00000000e+00, ...,\n",
       "        2.94069910e+07, 4.64846470e+07, 4.71022860e+07]])"
      ]
     },
     "execution_count": 154,
     "metadata": {},
     "output_type": "execute_result"
    }
   ],
   "source": [
    "distances"
   ]
  },
  {
   "cell_type": "code",
   "execution_count": 155,
   "metadata": {},
   "outputs": [],
   "source": [
    "def get_recommendations_knn(df, distances, indices, modelId, recommend_no):\n",
    "    if modelId in df['modelId'].values:\n",
    "        index = df[df['modelId'] == modelId].index[0]\n",
    "        print(f\"Find model of index {index}\")\n",
    "        \n",
    "    else:\n",
    "        print(f'Error: product_name \"{product_name}\" not found in dataframe.')\n",
    "\n",
    "    similar_indices = indices[index].argsort()[::-1][1:recommend_no+1]\n",
    "    similar_models = df.iloc[similar_indices]['modelId']\n",
    "    similarity_scores = 1 - distances[index][1:recommend_no+1]\n",
    "\n",
    "    print(f'Target Model: {df.iloc[index][\"modelId\"]}')\n",
    "    print(f'{recommend_no} Recommended Models:\\n{similar_models}')\n",
    "    print(f'Similarity Scores: {similarity_scores}') "
   ]
  },
  {
   "cell_type": "code",
   "execution_count": 156,
   "metadata": {},
   "outputs": [
    {
     "name": "stdout",
     "output_type": "stream",
     "text": [
      "Find model of index 1\n",
      "Target Model: bert-base-uncased\n",
      "5 Recommended Models:\n",
      "9991                BlightZz/DialoGPT-medium-Kurisu\n",
      "9999    doyoungkim/bert-base-uncased-finetuned-sst2\n",
      "9996                   bakrianoo/sinai-voice-ar-stt\n",
      "9995                   ans/vaccinating-covid-tweets\n",
      "9994                         Sunbird/sunbird-mul-en\n",
      "Name: modelId, dtype: object\n",
      "Similarity Scores: [  -617638.00000971 -17077655.00000035 -24485107.0000002\n",
      " -26151556.00000015 -35132931.00000017]\n"
     ]
    }
   ],
   "source": [
    "get_recommendations_knn(df_js, distances, indices, \"bert-base-uncased\", 5)"
   ]
  },
  {
   "cell_type": "code",
   "execution_count": 157,
   "metadata": {},
   "outputs": [
    {
     "name": "stdout",
     "output_type": "stream",
     "text": [
      "Target Product: bert-base-uncased\n",
      "5 Recommended Products:\n",
      "0        jonatasgrosman/wav2vec2-large-xlsr-53-english\n",
      "2    Davlan/distilbert-base-multilingual-cased-ner-hrl\n",
      "3                                                 gpt2\n",
      "4                                     xlm-roberta-base\n",
      "5                        openai/clip-vit-large-patch14\n",
      "Name: modelId, dtype: object\n",
      "Similarity Scores: [  -617638.00000971 -17077655.00000035 -24485107.0000002\n",
      " -26151556.00000015 -35132931.00000017]\n"
     ]
    }
   ],
   "source": [
    "product_index = 1  # Index of product to recommend similar products for\n",
    "k = 5  # Number of similar products to recommend\n",
    "similar_indices = indices[product_index][1:k+1]  # Ignore first index, which is the product itself\n",
    "\n",
    "# 4. Return the k most similar products\n",
    "similar_products = df.iloc[similar_indices]['modelId']\n",
    "similarity_scores = 1 - distances[product_index][1:k+1]  # Convert distances to similarities\n",
    "\n",
    "print(f'Target Product: {df.iloc[product_index][\"modelId\"]}')\n",
    "print(f'{k} Recommended Products:\\n{similar_products}')\n",
    "print(f'Similarity Scores: {similarity_scores}')"
   ]
  },
  {
   "attachments": {},
   "cell_type": "markdown",
   "metadata": {},
   "source": [
    "## K-Means"
   ]
  },
  {
   "cell_type": "code",
   "execution_count": 158,
   "metadata": {},
   "outputs": [
    {
     "data": {
      "text/html": [
       "<div>\n",
       "<style scoped>\n",
       "    .dataframe tbody tr th:only-of-type {\n",
       "        vertical-align: middle;\n",
       "    }\n",
       "\n",
       "    .dataframe tbody tr th {\n",
       "        vertical-align: top;\n",
       "    }\n",
       "\n",
       "    .dataframe thead th {\n",
       "        text-align: right;\n",
       "    }\n",
       "</style>\n",
       "<table border=\"1\" class=\"dataframe\">\n",
       "  <thead>\n",
       "    <tr style=\"text-align: right;\">\n",
       "      <th></th>\n",
       "      <th>modelId</th>\n",
       "      <th>tags</th>\n",
       "      <th>pipeline_tag</th>\n",
       "      <th>author</th>\n",
       "      <th>architectures</th>\n",
       "      <th>model_type</th>\n",
       "      <th>datasets</th>\n",
       "      <th>downloads</th>\n",
       "      <th>library_name</th>\n",
       "    </tr>\n",
       "  </thead>\n",
       "  <tbody>\n",
       "    <tr>\n",
       "      <th>0</th>\n",
       "      <td>jonatasgrosman/wav2vec2-large-xlsr-53-english</td>\n",
       "      <td>pytorch    jax    safetensors    wav2vec2   ...</td>\n",
       "      <td>automatic speech recognition</td>\n",
       "      <td>jonatasgrosman</td>\n",
       "      <td>wav2vec2forctc</td>\n",
       "      <td>wav2vec2</td>\n",
       "      <td>common voice    mozilla foundation common vo...</td>\n",
       "      <td>47102358</td>\n",
       "      <td>transformers</td>\n",
       "    </tr>\n",
       "    <tr>\n",
       "      <th>1</th>\n",
       "      <td>bert-base-uncased</td>\n",
       "      <td>pytorch    tf    jax    rust    safetensors ...</td>\n",
       "      <td>fill mask</td>\n",
       "      <td>NaN</td>\n",
       "      <td>bertformaskedlm</td>\n",
       "      <td>bert</td>\n",
       "      <td>bookcorpus    wikipedia</td>\n",
       "      <td>46484719</td>\n",
       "      <td>transformers</td>\n",
       "    </tr>\n",
       "    <tr>\n",
       "      <th>2</th>\n",
       "      <td>Davlan/distilbert-base-multilingual-cased-ner-hrl</td>\n",
       "      <td>pytorch    tf    distilbert    token classif...</td>\n",
       "      <td>token classification</td>\n",
       "      <td>davlan</td>\n",
       "      <td>distilbertfortokenclassification</td>\n",
       "      <td>distilbert</td>\n",
       "      <td>NaN</td>\n",
       "      <td>29407063</td>\n",
       "      <td>transformers</td>\n",
       "    </tr>\n",
       "    <tr>\n",
       "      <th>3</th>\n",
       "      <td>gpt2</td>\n",
       "      <td>pytorch    tf    jax    tflite    rust    sa...</td>\n",
       "      <td>text generation</td>\n",
       "      <td>NaN</td>\n",
       "      <td>gpt2lmheadmodel</td>\n",
       "      <td>gpt2</td>\n",
       "      <td>NaN</td>\n",
       "      <td>21999611</td>\n",
       "      <td>transformers</td>\n",
       "    </tr>\n",
       "    <tr>\n",
       "      <th>4</th>\n",
       "      <td>xlm-roberta-base</td>\n",
       "      <td>pytorch    tf    jax    onnx    safetensors ...</td>\n",
       "      <td>fill mask</td>\n",
       "      <td>NaN</td>\n",
       "      <td>xlmrobertaformaskedlm</td>\n",
       "      <td>xlm roberta</td>\n",
       "      <td>NaN</td>\n",
       "      <td>20333162</td>\n",
       "      <td>transformers</td>\n",
       "    </tr>\n",
       "  </tbody>\n",
       "</table>\n",
       "</div>"
      ],
      "text/plain": [
       "                                             modelId  \\\n",
       "0      jonatasgrosman/wav2vec2-large-xlsr-53-english   \n",
       "1                                  bert-base-uncased   \n",
       "2  Davlan/distilbert-base-multilingual-cased-ner-hrl   \n",
       "3                                               gpt2   \n",
       "4                                   xlm-roberta-base   \n",
       "\n",
       "                                                tags  \\\n",
       "0    pytorch    jax    safetensors    wav2vec2   ...   \n",
       "1    pytorch    tf    jax    rust    safetensors ...   \n",
       "2    pytorch    tf    distilbert    token classif...   \n",
       "3    pytorch    tf    jax    tflite    rust    sa...   \n",
       "4    pytorch    tf    jax    onnx    safetensors ...   \n",
       "\n",
       "                   pipeline_tag          author  \\\n",
       "0  automatic speech recognition  jonatasgrosman   \n",
       "1                     fill mask             NaN   \n",
       "2          token classification          davlan   \n",
       "3               text generation             NaN   \n",
       "4                     fill mask             NaN   \n",
       "\n",
       "                          architectures   model_type  \\\n",
       "0                      wav2vec2forctc       wav2vec2   \n",
       "1                     bertformaskedlm           bert   \n",
       "2    distilbertfortokenclassification     distilbert   \n",
       "3                     gpt2lmheadmodel           gpt2   \n",
       "4               xlmrobertaformaskedlm    xlm roberta   \n",
       "\n",
       "                                            datasets  downloads  library_name  \n",
       "0    common voice    mozilla foundation common vo...   47102358  transformers  \n",
       "1                          bookcorpus    wikipedia     46484719  transformers  \n",
       "2                                                NaN   29407063  transformers  \n",
       "3                                                NaN   21999611  transformers  \n",
       "4                                                NaN   20333162  transformers  "
      ]
     },
     "execution_count": 158,
     "metadata": {},
     "output_type": "execute_result"
    }
   ],
   "source": [
    "df_js.head()"
   ]
  },
  {
   "cell_type": "code",
   "execution_count": 166,
   "metadata": {},
   "outputs": [],
   "source": [
    "# df_kmean_mini = df_js.drop(columns=['tags', 'datasets', 'author'])\n",
    "df_kmean_mini = df_js.drop('downloads', axis=1)"
   ]
  },
  {
   "cell_type": "code",
   "execution_count": 167,
   "metadata": {},
   "outputs": [],
   "source": [
    "df_oh_feats = pd.get_dummies(df_kmean_mini.iloc[:, 1:])"
   ]
  },
  {
   "cell_type": "code",
   "execution_count": null,
   "metadata": {},
   "outputs": [],
   "source": [
    "# from sklearn.preprocessing import StandardScaler\n",
    "# scaler = StandardScaler()\n",
    "# df_oh_feats = scaler.fit_transform(df_oh_feats)"
   ]
  },
  {
   "attachments": {},
   "cell_type": "markdown",
   "metadata": {},
   "source": [
    "## The elbow method\n"
   ]
  },
  {
   "cell_type": "code",
   "execution_count": null,
   "metadata": {},
   "outputs": [
    {
     "name": "stderr",
     "output_type": "stream",
     "text": [
      "/home/winnie/miniconda3/envs/Wan_Ying/lib/python3.9/site-packages/sklearn/cluster/_kmeans.py:870: FutureWarning: The default value of `n_init` will change from 10 to 'auto' in 1.4. Set the value of `n_init` explicitly to suppress the warning\n",
      "  warnings.warn(\n",
      "/home/winnie/miniconda3/envs/Wan_Ying/lib/python3.9/site-packages/sklearn/cluster/_kmeans.py:870: FutureWarning: The default value of `n_init` will change from 10 to 'auto' in 1.4. Set the value of `n_init` explicitly to suppress the warning\n",
      "  warnings.warn(\n",
      "/home/winnie/miniconda3/envs/Wan_Ying/lib/python3.9/site-packages/sklearn/cluster/_kmeans.py:870: FutureWarning: The default value of `n_init` will change from 10 to 'auto' in 1.4. Set the value of `n_init` explicitly to suppress the warning\n",
      "  warnings.warn(\n",
      "/home/winnie/miniconda3/envs/Wan_Ying/lib/python3.9/site-packages/sklearn/cluster/_kmeans.py:870: FutureWarning: The default value of `n_init` will change from 10 to 'auto' in 1.4. Set the value of `n_init` explicitly to suppress the warning\n",
      "  warnings.warn(\n",
      "/home/winnie/miniconda3/envs/Wan_Ying/lib/python3.9/site-packages/sklearn/cluster/_kmeans.py:870: FutureWarning: The default value of `n_init` will change from 10 to 'auto' in 1.4. Set the value of `n_init` explicitly to suppress the warning\n",
      "  warnings.warn(\n",
      "/home/winnie/miniconda3/envs/Wan_Ying/lib/python3.9/site-packages/sklearn/cluster/_kmeans.py:870: FutureWarning: The default value of `n_init` will change from 10 to 'auto' in 1.4. Set the value of `n_init` explicitly to suppress the warning\n",
      "  warnings.warn(\n",
      "/home/winnie/miniconda3/envs/Wan_Ying/lib/python3.9/site-packages/sklearn/cluster/_kmeans.py:870: FutureWarning: The default value of `n_init` will change from 10 to 'auto' in 1.4. Set the value of `n_init` explicitly to suppress the warning\n",
      "  warnings.warn(\n",
      "/home/winnie/miniconda3/envs/Wan_Ying/lib/python3.9/site-packages/sklearn/cluster/_kmeans.py:870: FutureWarning: The default value of `n_init` will change from 10 to 'auto' in 1.4. Set the value of `n_init` explicitly to suppress the warning\n",
      "  warnings.warn(\n",
      "/home/winnie/miniconda3/envs/Wan_Ying/lib/python3.9/site-packages/sklearn/cluster/_kmeans.py:870: FutureWarning: The default value of `n_init` will change from 10 to 'auto' in 1.4. Set the value of `n_init` explicitly to suppress the warning\n",
      "  warnings.warn(\n",
      "/home/winnie/miniconda3/envs/Wan_Ying/lib/python3.9/site-packages/sklearn/cluster/_kmeans.py:870: FutureWarning: The default value of `n_init` will change from 10 to 'auto' in 1.4. Set the value of `n_init` explicitly to suppress the warning\n",
      "  warnings.warn(\n"
     ]
    },
    {
     "data": {
      "image/png": "[encoded data removed]",
      "text/plain": [
       "<Figure size 640x480 with 1 Axes>"
      ]
     },
     "metadata": {},
     "output_type": "display_data"
    }
   ],
   "source": [
    "from sklearn.cluster import KMeans\n",
    "import matplotlib.pyplot as plt\n",
    "\n",
    "# Initialize an empty list to store the WSS values for different values of k\n",
    "wss_values = []\n",
    "\n",
    "# Loop through different values of k and compute the WSS for each value\n",
    "for k in range(1, 11):\n",
    "    kmeans = KMeans(n_clusters=k, random_state=0)\n",
    "    kmeans.fit(df_oh_feats)\n",
    "    wss_values.append(kmeans.inertia_)\n",
    "\n",
    "# Plot the WSS values against the number of clusters\n",
    "plt.plot(range(1, 11), wss_values)\n",
    "plt.xlabel('Number of clusters')\n",
    "plt.ylabel('WSS')\n",
    "plt.title('Elbow method')\n",
    "plt.show()"
   ]
  },
  {
   "attachments": {},
   "cell_type": "markdown",
   "metadata": {},
   "source": [
    "WSS measures the sum of squared distances of each data point from its own centroid. The \"elbow\" in the plot is a point where the decrease in SSD starts slows down. This indicates that adding more clusters does not result in a significant reduction in WSS and may instead lead to overfitting. The elbow method is a heuristic and may not always give a clear elbow point. In such cases, it can be helpful to consider other metrics or methods, such as the silhouette score or hierarchical clustering. "
   ]
  },
  {
   "attachments": {},
   "cell_type": "markdown",
   "metadata": {},
   "source": [
    "## Evaluation metrics\n",
    "\n",
    "1. Silhouette Score: Silhouette Coefficient measures the between-cluster distance against within-cluster distance. A higher score signifies better-defined clusters. The Silhouette Coefficient of a sample measures the average distance of a sample with all other points in the next nearest cluster against all other points in its cluster. A higher ratio signifies the cluster is far away from its nearest cluster and that the cluster is more well-defined. The Silhouette Coefficient for a set of samples takes the average Silhouette Coefficient for each sample. \n",
    "\n",
    "$s(i)$ = $(b(i) - a(i)) / \\max(a(i), b(i))$\n",
    "\n",
    "2. Davies Bouldin Score: The score is defined as the average similarity measure of each cluster with its most similar cluster, where similarity is the ratio of within-cluster distances to between-cluster distances. It measures the size of clusters against the average distance between clusters.The minimum score is zero, with lower values indicating better clustering.\n",
    "\n",
    "DBI = (1/n) * ∑<sub>i</sub> max<sub>j</sub> (R<sub>i</sub> + R<sub>j</sub>) / d(c<sub>i</sub>, c<sub>j</sub>)\n",
    "\n",
    "3. The Calinski-Harabasz Index, or Variance Ratio Criterion, measures the sum of between-cluster dispersion against the sum of within-cluster dispersion, where dispersion is the sum of distance squared.A higher score signifies better-defined clusters.\n",
    "\n",
    "CH = $\\frac{Tr(B)}{Tr(W)} * \\frac{n - k}{k - 1}$\n"
   ]
  },
  {
   "cell_type": "code",
   "execution_count": 168,
   "metadata": {},
   "outputs": [
    {
     "name": "stderr",
     "output_type": "stream",
     "text": [
      "/home/winnie/miniconda3/envs/Wan_Ying/lib/python3.9/site-packages/sklearn/cluster/_kmeans.py:870: FutureWarning: The default value of `n_init` will change from 10 to 'auto' in 1.4. Set the value of `n_init` explicitly to suppress the warning\n",
      "  warnings.warn(\n",
      "/home/winnie/miniconda3/envs/Wan_Ying/lib/python3.9/site-packages/sklearn/cluster/_kmeans.py:870: FutureWarning: The default value of `n_init` will change from 10 to 'auto' in 1.4. Set the value of `n_init` explicitly to suppress the warning\n",
      "  warnings.warn(\n",
      "/home/winnie/miniconda3/envs/Wan_Ying/lib/python3.9/site-packages/sklearn/cluster/_kmeans.py:870: FutureWarning: The default value of `n_init` will change from 10 to 'auto' in 1.4. Set the value of `n_init` explicitly to suppress the warning\n",
      "  warnings.warn(\n"
     ]
    },
    {
     "name": "stdout",
     "output_type": "stream",
     "text": [
      "list of scores : [0.058287992213235613, 0.07140412945780888, 0.07048811285206794]\n",
      "Optimal number of clusters with silhouette_score is 3\n"
     ]
    }
   ],
   "source": [
    "from sklearn.cluster import KMeans\n",
    "from sklearn.metrics import silhouette_score, davies_bouldin_score, calinski_harabasz_score\n",
    "import numpy as np\n",
    "\n",
    "# create a list of cluster numbers to try\n",
    "cluster_list = range(2, 5)\n",
    "\n",
    "def find_opt_n_cluster(X, cluster_list, metrics = 'silhouette_score'):\n",
    "    scores = []\n",
    "\n",
    "    for n_clusters in cluster_list:\n",
    "        kmeans_model = KMeans(n_clusters=n_clusters, random_state=42)\n",
    "        kmeans_model.fit(X)\n",
    "\n",
    "        if metrics == 'silhouette_score':\n",
    "            silhouette_avg = silhouette_score(X, kmeans_model.labels_)\n",
    "            scores.append(silhouette_avg)\n",
    "            optimal_cluster_num = cluster_list[np.argmax(scores)]\n",
    "        elif metrics == 'davies_bouldin_score':\n",
    "            db_score = davies_bouldin_score(X, kmeans_model.labels_)\n",
    "            scores.append(db_score)\n",
    "            optimal_cluster_num = cluster_list[np.argmin(scores)]\n",
    "        elif metrics ==\"calinski_harabasz_score\":\n",
    "            ch_score = calinski_harabasz_score(X, kmeans_model.labels_)\n",
    "            scores.append(ch_score)\n",
    "            optimal_cluster_num = cluster_list[np.argmax(scores)]\n",
    "\n",
    "    print(f'list of scores : {scores}')\n",
    "    print(f'Optimal number of clusters with {metrics} is {optimal_cluster_num}')\n",
    "    return optimal_cluster_num \n",
    "\n",
    "optimal_cluster_num = find_opt_n_cluster(df_oh_feats,cluster_list)\n"
   ]
  },
  {
   "cell_type": "code",
   "execution_count": 169,
   "metadata": {},
   "outputs": [
    {
     "name": "stderr",
     "output_type": "stream",
     "text": [
      "/home/winnie/miniconda3/envs/Wan_Ying/lib/python3.9/site-packages/sklearn/cluster/_kmeans.py:870: FutureWarning: The default value of `n_init` will change from 10 to 'auto' in 1.4. Set the value of `n_init` explicitly to suppress the warning\n",
      "  warnings.warn(\n",
      "/home/winnie/miniconda3/envs/Wan_Ying/lib/python3.9/site-packages/sklearn/cluster/_kmeans.py:870: FutureWarning: The default value of `n_init` will change from 10 to 'auto' in 1.4. Set the value of `n_init` explicitly to suppress the warning\n",
      "  warnings.warn(\n",
      "/home/winnie/miniconda3/envs/Wan_Ying/lib/python3.9/site-packages/sklearn/cluster/_kmeans.py:870: FutureWarning: The default value of `n_init` will change from 10 to 'auto' in 1.4. Set the value of `n_init` explicitly to suppress the warning\n",
      "  warnings.warn(\n"
     ]
    },
    {
     "name": "stdout",
     "output_type": "stream",
     "text": [
      "list of scores : [3.3687668836800913, 3.277186181664708, 2.5190556764814467]\n",
      "Optimal number of clusters with davies_bouldin_score is 4\n"
     ]
    }
   ],
   "source": [
    "\n",
    "optimal_cluster_num = find_opt_n_cluster(df_oh_feats,cluster_list, metrics='davies_bouldin_score')"
   ]
  },
  {
   "cell_type": "code",
   "execution_count": 181,
   "metadata": {},
   "outputs": [
    {
     "name": "stderr",
     "output_type": "stream",
     "text": [
      "/home/winnie/miniconda3/envs/Wan_Ying/lib/python3.9/site-packages/sklearn/cluster/_kmeans.py:870: FutureWarning: The default value of `n_init` will change from 10 to 'auto' in 1.4. Set the value of `n_init` explicitly to suppress the warning\n",
      "  warnings.warn(\n",
      "/home/winnie/miniconda3/envs/Wan_Ying/lib/python3.9/site-packages/sklearn/cluster/_kmeans.py:870: FutureWarning: The default value of `n_init` will change from 10 to 'auto' in 1.4. Set the value of `n_init` explicitly to suppress the warning\n",
      "  warnings.warn(\n",
      "/home/winnie/miniconda3/envs/Wan_Ying/lib/python3.9/site-packages/sklearn/cluster/_kmeans.py:870: FutureWarning: The default value of `n_init` will change from 10 to 'auto' in 1.4. Set the value of `n_init` explicitly to suppress the warning\n",
      "  warnings.warn(\n"
     ]
    },
    {
     "name": "stdout",
     "output_type": "stream",
     "text": [
      "list of scores : [624.6141444195785, 483.33215466614735, 454.9452818952223]\n",
      "Optimal number of clusters with calinski_harabasz_score is 2\n"
     ]
    }
   ],
   "source": [
    "optimal_cluster_num = find_opt_n_cluster(df_oh_feats,cluster_list, metrics='calinski_harabasz_score')"
   ]
  },
  {
   "cell_type": "code",
   "execution_count": 170,
   "metadata": {},
   "outputs": [
    {
     "name": "stderr",
     "output_type": "stream",
     "text": [
      "/home/winnie/miniconda3/envs/Wan_Ying/lib/python3.9/site-packages/sklearn/cluster/_kmeans.py:870: FutureWarning: The default value of `n_init` will change from 10 to 'auto' in 1.4. Set the value of `n_init` explicitly to suppress the warning\n",
      "  warnings.warn(\n"
     ]
    },
    {
     "data": {
      "text/html": [
       "<style>#sk-container-id-9 {color: black;background-color: white;}#sk-container-id-9 pre{padding: 0;}#sk-container-id-9 div.sk-toggleable {background-color: white;}#sk-container-id-9 label.sk-toggleable__label {cursor: pointer;display: block;width: 100%;margin-bottom: 0;padding: 0.3em;box-sizing: border-box;text-align: center;}#sk-container-id-9 label.sk-toggleable__label-arrow:before {content: \"▸\";float: left;margin-right: 0.25em;color: #696969;}#sk-container-id-9 label.sk-toggleable__label-arrow:hover:before {color: black;}#sk-container-id-9 div.sk-estimator:hover label.sk-toggleable__label-arrow:before {color: black;}#sk-container-id-9 div.sk-toggleable__content {max-height: 0;max-width: 0;overflow: hidden;text-align: left;background-color: #f0f8ff;}#sk-container-id-9 div.sk-toggleable__content pre {margin: 0.2em;color: black;border-radius: 0.25em;background-color: #f0f8ff;}#sk-container-id-9 input.sk-toggleable__control:checked~div.sk-toggleable__content {max-height: 200px;max-width: 100%;overflow: auto;}#sk-container-id-9 input.sk-toggleable__control:checked~label.sk-toggleable__label-arrow:before {content: \"▾\";}#sk-container-id-9 div.sk-estimator input.sk-toggleable__control:checked~label.sk-toggleable__label {background-color: #d4ebff;}#sk-container-id-9 div.sk-label input.sk-toggleable__control:checked~label.sk-toggleable__label {background-color: #d4ebff;}#sk-container-id-9 input.sk-hidden--visually {border: 0;clip: rect(1px 1px 1px 1px);clip: rect(1px, 1px, 1px, 1px);height: 1px;margin: -1px;overflow: hidden;padding: 0;position: absolute;width: 1px;}#sk-container-id-9 div.sk-estimator {font-family: monospace;background-color: #f0f8ff;border: 1px dotted black;border-radius: 0.25em;box-sizing: border-box;margin-bottom: 0.5em;}#sk-container-id-9 div.sk-estimator:hover {background-color: #d4ebff;}#sk-container-id-9 div.sk-parallel-item::after {content: \"\";width: 100%;border-bottom: 1px solid gray;flex-grow: 1;}#sk-container-id-9 div.sk-label:hover label.sk-toggleable__label {background-color: #d4ebff;}#sk-container-id-9 div.sk-serial::before {content: \"\";position: absolute;border-left: 1px solid gray;box-sizing: border-box;top: 0;bottom: 0;left: 50%;z-index: 0;}#sk-container-id-9 div.sk-serial {display: flex;flex-direction: column;align-items: center;background-color: white;padding-right: 0.2em;padding-left: 0.2em;position: relative;}#sk-container-id-9 div.sk-item {position: relative;z-index: 1;}#sk-container-id-9 div.sk-parallel {display: flex;align-items: stretch;justify-content: center;background-color: white;position: relative;}#sk-container-id-9 div.sk-item::before, #sk-container-id-9 div.sk-parallel-item::before {content: \"\";position: absolute;border-left: 1px solid gray;box-sizing: border-box;top: 0;bottom: 0;left: 50%;z-index: -1;}#sk-container-id-9 div.sk-parallel-item {display: flex;flex-direction: column;z-index: 1;position: relative;background-color: white;}#sk-container-id-9 div.sk-parallel-item:first-child::after {align-self: flex-end;width: 50%;}#sk-container-id-9 div.sk-parallel-item:last-child::after {align-self: flex-start;width: 50%;}#sk-container-id-9 div.sk-parallel-item:only-child::after {width: 0;}#sk-container-id-9 div.sk-dashed-wrapped {border: 1px dashed gray;margin: 0 0.4em 0.5em 0.4em;box-sizing: border-box;padding-bottom: 0.4em;background-color: white;}#sk-container-id-9 div.sk-label label {font-family: monospace;font-weight: bold;display: inline-block;line-height: 1.2em;}#sk-container-id-9 div.sk-label-container {text-align: center;}#sk-container-id-9 div.sk-container {/* jupyter's `normalize.less` sets `[hidden] { display: none; }` but bootstrap.min.css set `[hidden] { display: none !important; }` so we also need the `!important` here to be able to override the default hidden behavior on the sphinx rendered scikit-learn.org. See: https://github.com/scikit-learn/scikit-learn/issues/21755 */display: inline-block !important;position: relative;}#sk-container-id-9 div.sk-text-repr-fallback {display: none;}</style><div id=\"sk-container-id-9\" class=\"sk-top-container\"><div class=\"sk-text-repr-fallback\"><pre>KMeans(n_clusters=3)</pre><b>In a Jupyter environment, please rerun this cell to show the HTML representation or trust the notebook. <br />On GitHub, the HTML representation is unable to render, please try loading this page with nbviewer.org.</b></div><div class=\"sk-container\" hidden><div class=\"sk-item\"><div class=\"sk-estimator sk-toggleable\"><input class=\"sk-toggleable__control sk-hidden--visually\" id=\"sk-estimator-id-9\" type=\"checkbox\" checked><label for=\"sk-estimator-id-9\" class=\"sk-toggleable__label sk-toggleable__label-arrow\">KMeans</label><div class=\"sk-toggleable__content\"><pre>KMeans(n_clusters=3)</pre></div></div></div></div></div>"
      ],
      "text/plain": [
       "KMeans(n_clusters=3)"
      ]
     },
     "execution_count": 170,
     "metadata": {},
     "output_type": "execute_result"
    }
   ],
   "source": [
    "\n",
    "kmeans = KMeans(n_clusters=3)\n",
    "kmeans.fit(df_oh_feats)"
   ]
  },
  {
   "cell_type": "code",
   "execution_count": 171,
   "metadata": {},
   "outputs": [],
   "source": [
    "def get_recommendations_kmeans(df, df_encoded, model, modelId, recommend_no):\n",
    "    # Encode the input product's features\n",
    "    product_encoded = df[df['modelId'] == modelId].drop('modelId', axis=1)\n",
    "    # print(product_encoded)\n",
    "    # Predict the cluster of the input product\n",
    "    cluster = kmeans.predict(product_encoded)\n",
    "    # print(cluster)\n",
    "    \n",
    "    # Get indices of all products in the same cluster as the input product\n",
    "    indices = df_encoded[kmeans.labels_ == cluster[0]].index\n",
    "    \n",
    "    # Compute similarity scores between the input product and all products in the same cluster\n",
    "    similarity_scores = cosine_similarity(product_encoded, df_encoded.loc[indices])[0]\n",
    "    print(similarity_scores)\n",
    "    \n",
    "    # Sort the products by similarity score and return top k recommendations\n",
    "    similar_indices = similarity_scores.argsort()[::-1][1:recommend_no+1]\n",
    "    similar_products = df.iloc[indices[similar_indices]]['modelId']\n",
    "    \n",
    "    return similar_products"
   ]
  },
  {
   "cell_type": "code",
   "execution_count": 172,
   "metadata": {},
   "outputs": [],
   "source": [
    "# Concatenate the encoded DataFrame with the modelId column\n",
    "df_oh = pd.concat([df_kmean_mini['modelId'], df_oh_feats], axis=1)"
   ]
  },
  {
   "cell_type": "code",
   "execution_count": 173,
   "metadata": {},
   "outputs": [
    {
     "name": "stdout",
     "output_type": "stream",
     "text": [
      "[0.15430335 1.         0.16666667 ... 0.16666667 0.33333333 0.3086067 ]\n"
     ]
    },
    {
     "data": {
      "text/plain": [
       "2091      bert-large-cased-whole-word-masking\n",
       "218     bert-large-uncased-whole-word-masking\n",
       "303                          bert-large-cased\n",
       "66                         bert-large-uncased\n",
       "11                            bert-base-cased\n",
       "Name: modelId, dtype: object"
      ]
     },
     "execution_count": 173,
     "metadata": {},
     "output_type": "execute_result"
    }
   ],
   "source": [
    "similar_products_kmeans = get_recommendations_kmeans(df_oh, df_oh_feats, kmeans, \"bert-base-uncased\", 5)\n",
    "similar_products_kmeans"
   ]
  },
  {
   "cell_type": "code",
   "execution_count": 174,
   "metadata": {},
   "outputs": [],
   "source": [
    "from sklearn.metrics import silhouette_score,silhouette_samples\n",
    "silhouette_avg = silhouette_score(df_oh_feats, kmeans.labels_)\n",
    "sample_silhouette_values = silhouette_samples(df_oh_feats, kmeans.labels_)"
   ]
  },
  {
   "cell_type": "code",
   "execution_count": 176,
   "metadata": {},
   "outputs": [
    {
     "data": {
      "image/png": "[encoded data removed]",
      "text/plain": [
       "<Figure size 1800x700 with 2 Axes>"
      ]
     },
     "metadata": {},
     "output_type": "display_data"
    }
   ],
   "source": [
    "import matplotlib.pyplot as plt\n",
    "import matplotlib.cm as cm\n",
    "import numpy as np\n",
    "\n",
    "n_clusters = 3\n",
    "# Create a subplot with 1 row and 2 columns\n",
    "fig, (ax1, ax2) = plt.subplots(1, 2)\n",
    "fig.set_size_inches(18, 7)\n",
    "ax1.set_xlim([-0.1, 1])\n",
    "ax1.set_ylim([0, len(df_oh_feats) + (n_clusters + 1) * 10])\n",
    "y_lower = 10\n",
    "\n",
    "for i in range(n_clusters):\n",
    "    # Aggregate the silhouette scores for samples belonging to\n",
    "    # cluster i, and sort them\n",
    "    ith_cluster_silhouette_values = \\\n",
    "        sample_silhouette_values[kmeans.labels_ == i]\n",
    "\n",
    "    ith_cluster_silhouette_values.sort()\n",
    "\n",
    "    size_cluster_i = ith_cluster_silhouette_values.shape[0]\n",
    "    y_upper = y_lower + size_cluster_i\n",
    "\n",
    "    color = cm.nipy_spectral(float(i) / n_clusters)\n",
    "    ax1.fill_betweenx(np.arange(y_lower, y_upper),\n",
    "                        0, ith_cluster_silhouette_values,\n",
    "                        facecolor=color, edgecolor=color, alpha=0.7)\n",
    "\n",
    "    # Label the silhouette plots with their cluster numbers at the middle\n",
    "    ax1.text(-0.05, y_lower + 0.5 * size_cluster_i, str(i))\n",
    "\n",
    "    # Compute the new y_lower for next plot\n",
    "    y_lower = y_upper + 10  # 10 for the 0 samples\n",
    "\n",
    "ax1.set_title(\"The silhouette plot for the various clusters.\")\n",
    "ax1.set_xlabel(\"The silhouette coefficient values\")\n",
    "ax1.set_ylabel(\"Cluster label\")\n",
    "\n",
    "# The vertical line for average silhouette score of all the values\n",
    "ax1.axvline(x=silhouette_avg, color=\"red\", linestyle=\"--\")\n",
    "\n",
    "ax1.set_yticks([])  # Clear the yaxis labels / ticks\n",
    "ax1.set_xticks([-0.1, 0, 0.2, 0.4, 0.6, 0.8, 1])\n",
    "\n",
    "# 2nd Plot showing the actual clusters formed\n",
    "colors = cm.nipy_spectral(kmeans.labels_.astype(float) / n_clusters)\n",
    "ax2.scatter(df_oh_feats.values[:, 0], df_oh_feats.values[:, 1], marker='.', s=30, lw=0, alpha=0.7,\n",
    "            c=colors, edgecolor='k')\n",
    "\n",
    "# Labeling the clusters\n",
    "centers = kmeans.cluster_centers_\n",
    "# Draw white circles at cluster centers\n",
    "ax2.scatter(centers[:, 0], centers[:, 1], marker='o',\n",
    "            c=\"white\", alpha=1, s=200, edgecolor='k')\n",
    "\n",
    "for i, c in enumerate(centers):\n",
    "    ax2.scatter(c[0], c[1], marker='$%d$' % i, alpha=1,\n",
    "                s=50, edgecolor='k')\n",
    "\n",
    "ax2.set_title(\"The visualization of the clustered data.\")\n",
    "ax2.set_xlabel(\"Feature space for the 1st feature\")\n",
    "ax2.set_ylabel(\"Feature space for the 2nd feature\")\n",
    "\n",
    "plt.suptitle((\"Silhouette analysis for KMeans clustering on sample data \"\n",
    "                \"with n_clusters = %d\" % n_clusters),\n",
    "                fontsize=14, fontweight='bold')\n",
    "\n",
    "plt.show()\n"
   ]
  },
  {
   "cell_type": "markdown",
   "metadata": {},
   "source": []
  },
  {
   "attachments": {},
   "cell_type": "markdown",
   "metadata": {},
   "source": [
    "## Discussion\n",
    "It is possible for the silhouette score to be high and the Davies Bouldin score to be low, but the clustering result to still not be good. This could happen in cases where the clustering algorithm is biased towards a certain cluster structure, such as when using k-means with a fixed number of clusters, but the underlying data does not have a clear cluster structure or when the cluster structure is not well-separated.\n",
    "\n",
    "Silhouette score measures how well-defined the clusters are and how well-separated they are from each other. The higher the silhouette score, the more distinct and well-separated the clusters are. However, this metric alone may not be sufficient to evaluate the overall quality of the clustering, especially in cases where the data has a complex or overlapping structure. There are several reasons why a high silhouette score might not result in good clustering:\n",
    "\n",
    "Outliers: The presence of outliers in the data can cause the clustering algorithm to group them into their own cluster, resulting in high cohesion and low separation, but this cluster may not be meaningful or useful in practice.\n",
    "\n",
    "Biased algorithm: The clustering algorithm may be biased towards certain shapes or densities of clusters, which can cause it to miss important patterns in the data. In such cases, a high silhouette score may simply reflect that the algorithm is able to fit the data well to its preconceived notions of what a cluster should look like.\n",
    "\n",
    "Incorrect number of clusters: A high silhouette score may be obtained for a suboptimal number of clusters, resulting in clusters that are too broad or too narrow to be useful.\n",
    "\n",
    "Similarly, davies_bouldin_score may also not always accurately reflect the quality of the clustering if the data has a complex structure."
   ]
  },
  {
   "attachments": {},
   "cell_type": "markdown",
   "metadata": {},
   "source": [
    "## PCA analysis"
   ]
  },
  {
   "cell_type": "code",
   "execution_count": 177,
   "metadata": {},
   "outputs": [
    {
     "name": "stdout",
     "output_type": "stream",
     "text": [
      "Principal components:\n",
      "[[ 1.74007578e-04 -4.90693208e-05  2.60587252e-04 ...  4.99592855e-04\n",
      "   1.08321288e-02  6.65899790e-03]\n",
      " [ 7.07381375e-06 -4.92014794e-05  1.40505918e-05 ... -1.38064318e-04\n",
      "   5.44520546e-04  2.36530286e-04]\n",
      " [ 9.03824392e-06  7.09720643e-06  2.37118842e-05 ...  4.54807827e-04\n",
      "   1.77764780e-04  3.67169758e-04]\n",
      " ...\n",
      " [-6.26002288e-06  3.30565750e-05 -2.07345961e-05 ... -2.88595891e-04\n",
      "  -2.28611150e-04 -2.13326602e-04]\n",
      " [-5.27436769e-07  3.37658838e-05 -4.03947888e-06 ... -1.14865625e-04\n",
      "   7.24614661e-05  4.62085724e-05]\n",
      " [-1.12478044e-04 -2.78481348e-05 -8.63713617e-04 ... -3.08119841e-04\n",
      "  -5.67192110e-03 -4.86987337e-03]]\n"
     ]
    },
    {
     "data": {
      "image/png": "[encoded data removed]",
      "text/plain": [
       "<Figure size 640x480 with 1 Axes>"
      ]
     },
     "metadata": {},
     "output_type": "display_data"
    }
   ],
   "source": [
    "from sklearn.decomposition import PCA\n",
    "import numpy as np\n",
    "import matplotlib.pyplot as plt\n",
    "\n",
    "\n",
    "# create a PCA object with 3 components\n",
    "pca = PCA(n_components=7)\n",
    "\n",
    "# fit the PCA model to the data\n",
    "pca.fit(df_oh_feats)\n",
    "\n",
    "# get the principal components\n",
    "pcs = pca.components_\n",
    "\n",
    "# print the principal components\n",
    "print(\"Principal components:\")\n",
    "print(pcs)\n",
    "\n",
    "# visualize the principal components\n",
    "plt.figure()\n",
    "plt.plot(pcs.T)\n",
    "plt.legend(['PC1', 'PC2', 'PC3','PC4','PC5','PC6','PC7'], loc='center left', bbox_to_anchor=(1, 0.5))\n",
    "plt.xlabel('Features')\n",
    "plt.ylabel('Loadings')\n",
    "plt.show()\n"
   ]
  },
  {
   "attachments": {},
   "cell_type": "markdown",
   "metadata": {},
   "source": [
    "Principal components are linear combinations of the original variables that capture the most variation in the data. The first principal component (PC1) explains the largest amount of variation in the data, followed by the second principal component (PC2), and so on.  The loadings represent the weights of each feature in the corresponding principal component and can be interpreted as the contribution of each feature to the overall variation captured by the component.Features with large positive or negative loadings have a strong influence on the corresponding principal component, while features with loadings close to zero have little influence. The sign of the loading indicates the direction of the feature's influence on the component. A positive loading means that higher values of the feature are associated with higher scores on the component, while a negative loading means that higher values of the feature are associated with lower scores on the component. "
   ]
  },
  {
   "cell_type": "code",
   "execution_count": 180,
   "metadata": {},
   "outputs": [
    {
     "data": {
      "text/plain": [
       "<AxesSubplot: xlabel='PC1', ylabel='PC2'>"
      ]
     },
     "execution_count": 180,
     "metadata": {},
     "output_type": "execute_result"
    },
    {
     "data": {
      "image/png": "[encoded data removed]",
      "text/plain": [
       "<Figure size 640x480 with 1 Axes>"
      ]
     },
     "metadata": {},
     "output_type": "display_data"
    }
   ],
   "source": [
    "labels = kmeans.labels_\n",
    "pca = PCA(n_components=2)\n",
    "pca.fit(df_oh_feats)\n",
    "transformed_data  = pca.transform(df_oh_feats)\n",
    "transformed_df = pd.DataFrame(data=transformed_data, columns=['PC1', 'PC2'])\n",
    "transformed_df['label'] = labels\n",
    "colors = {0: 'red', 1: 'green', 2: 'blue'}\n",
    "transformed_df.plot.scatter(x='PC1', y='PC2', c=transformed_df['label'].apply(lambda x: colors[x]))\n"
   ]
  },
  {
   "cell_type": "code",
   "execution_count": null,
   "metadata": {},
   "outputs": [],
   "source": [
    "# from scipy.cluster.hierarchy import dendrogram, linkage\n",
    "\n",
    "# # Compute the linkage matrix using Ward's method\n",
    "# Z = linkage(df_oh_feats, 'ward')\n",
    "\n",
    "# # Plot the dendrogram\n",
    "# plt.figure(figsize=(8, 6))\n",
    "# plt.title('Hierarchical Clustering Dendrogram')\n",
    "# plt.xlabel('Data point')\n",
    "# plt.ylabel('Distance')\n",
    "# dendrogram(Z)\n",
    "# plt.show()\n"
   ]
  },
  {
   "cell_type": "markdown",
   "metadata": {},
   "source": []
  }
 ],
 "metadata": {
  "kernelspec": {
   "display_name": "Wan_Ying",
   "language": "python",
   "name": "python3"
  },
  "language_info": {
   "codemirror_mode": {
    "name": "ipython",
    "version": 3
   },
   "file_extension": ".py",
   "mimetype": "text/x-python",
   "name": "python",
   "nbconvert_exporter": "python",
   "pygments_lexer": "ipython3",
   "version": "3.9.16"
  },
  "orig_nbformat": 4
 },
 "nbformat": 4,
 "nbformat_minor": 2
}
